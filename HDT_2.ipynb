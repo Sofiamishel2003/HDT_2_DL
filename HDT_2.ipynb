{
 "cells": [
  {
   "cell_type": "markdown",
   "id": "c44f61de",
   "metadata": {},
   "source": [
    "## CC3092 - Deep Learning y Sistemas Inteligentes  \n",
    "## Hoja de Trabajo 2  \n",
    "### Semestre II - 2025  \n",
    "\n",
    "**Integrantes:**  \n",
    "- Sofía Mishell Velásquez, 22049  \n",
    "- José Rodrigo Marchena, 22398  \n",
    "- José Joaquín Campos, 22115  \n",
    "---\n",
    "\n",
    "# Ejercicio 1 - Experimentación Práctica\n",
    "\n",
    "## Task 1 - Preparación del conjunto de datos\n",
    "En esta sección se carga el conjunto de datos Iris utilizando `sklearn.datasets`. Posteriormente, se dividen los datos en entrenamiento y validación para asegurar que los modelos se prueben adecuadamente en datos no vistos."
   ]
  },
  {
   "cell_type": "code",
   "execution_count": 2,
   "id": "e1c448a3",
   "metadata": {},
   "outputs": [],
   "source": [
    "# Task 1 - Preparación del conjunto de datos\n",
    "from sklearn.datasets import load_iris\n",
    "from sklearn.model_selection import train_test_split\n",
    "from sklearn.preprocessing import StandardScaler\n",
    "import torch\n",
    "from torch.utils.data import TensorDataset, DataLoader\n",
    "\n",
    "# Cargar dataset Iris\n",
    "iris = load_iris()\n",
    "X, y = iris.data, iris.target\n",
    "\n",
    "# Normalización\n",
    "scaler = StandardScaler()\n",
    "X = scaler.fit_transform(X)\n",
    "\n",
    "# Separación en train/val\n",
    "X_train, X_val, y_train, y_val = train_test_split(X, y, test_size=0.2, random_state=42, stratify=y)\n",
    "\n",
    "# Conversión a tensores\n",
    "X_train_t = torch.tensor(X_train, dtype=torch.float32)\n",
    "y_train_t = torch.tensor(y_train, dtype=torch.long)\n",
    "X_val_t   = torch.tensor(X_val, dtype=torch.float32)\n",
    "y_val_t   = torch.tensor(y_val, dtype=torch.long)\n",
    "\n",
    "# Crear DataLoaders\n",
    "train_loader = DataLoader(TensorDataset(X_train_t, y_train_t), batch_size=16, shuffle=True)\n",
    "val_loader   = DataLoader(TensorDataset(X_val_t, y_val_t), batch_size=16, shuffle=False)"
   ]
  },
  {
   "cell_type": "markdown",
   "id": "bfc02991",
   "metadata": {},
   "source": [
    "## Task 2 - Arquitectura modelo\n",
    "Aquí se construye una red neuronal feedforward simple con nn.Module.\n",
    "La red incluye una capa de entrada, capas ocultas y una capa de salida con número de neuronas igual al número de clases en Iris (3)."
   ]
  },
  {
   "cell_type": "code",
   "execution_count": 3,
   "id": "9e40e759",
   "metadata": {},
   "outputs": [
    {
     "name": "stdout",
     "output_type": "stream",
     "text": [
      "IrisNet(\n",
      "  (fc1): Linear(in_features=4, out_features=16, bias=True)\n",
      "  (relu): ReLU()\n",
      "  (fc2): Linear(in_features=16, out_features=16, bias=True)\n",
      "  (fc3): Linear(in_features=16, out_features=3, bias=True)\n",
      ")\n"
     ]
    }
   ],
   "source": [
    "# Task 2 - Arquitectura del modelo\n",
    "import torch.nn as nn\n",
    "\n",
    "class IrisNet(nn.Module):\n",
    "    def __init__(self, input_dim=4, hidden_dim=16, output_dim=3):\n",
    "        super(IrisNet, self).__init__()\n",
    "        self.fc1 = nn.Linear(input_dim, hidden_dim)\n",
    "        self.relu = nn.ReLU()\n",
    "        self.fc2 = nn.Linear(hidden_dim, hidden_dim)\n",
    "        self.fc3 = nn.Linear(hidden_dim, output_dim)\n",
    "    \n",
    "    def forward(self, x):\n",
    "        x = self.relu(self.fc1(x))\n",
    "        x = self.relu(self.fc2(x))\n",
    "        return self.fc3(x)\n",
    "\n",
    "# Instanciar modelo\n",
    "model = IrisNet()\n",
    "print(model)"
   ]
  },
  {
   "cell_type": "markdown",
   "id": "623c76cf",
   "metadata": {},
   "source": [
    "## Task 3 - Funciones de Pérdida\n",
    "El objetivo es comparar el rendimiento del modelo utilizando distintas funciones de pérdida.\n",
    "Se probarán al menos tres pérdidas comunes:\n",
    "- nn.CrossEntropyLoss (adecuada para clasificación multiclase)\n",
    "- nn.MSELoss (Mean Squared Error)\n",
    "- nn.NLLLoss (Negative Log Likelihood, usando LogSoftmax)"
   ]
  },
  {
   "cell_type": "code",
   "execution_count": 4,
   "id": "ad9728d8",
   "metadata": {},
   "outputs": [
    {
     "name": "stdout",
     "output_type": "stream",
     "text": [
      "== Entrenando con CrossEntropy ==\n",
      "Epoch [10/50] | Train Loss: 0.1757 | Val Loss: 0.0911\n",
      "Epoch [20/50] | Train Loss: 0.2706 | Val Loss: 0.0758\n",
      "Epoch [30/50] | Train Loss: 0.0006 | Val Loss: 0.0844\n",
      "Epoch [40/50] | Train Loss: 0.0347 | Val Loss: 0.1196\n",
      "Epoch [50/50] | Train Loss: 0.0025 | Val Loss: 0.1140\n",
      "\n",
      "== Entrenando con MSE ==\n",
      "Epoch [10/50] | Train Loss: 0.0602 | Val Loss: 0.0344\n",
      "Epoch [20/50] | Train Loss: 0.0518 | Val Loss: 0.0264\n",
      "Epoch [30/50] | Train Loss: 0.0441 | Val Loss: 0.0225\n",
      "Epoch [40/50] | Train Loss: 0.0012 | Val Loss: 0.0215\n",
      "Epoch [50/50] | Train Loss: 0.0014 | Val Loss: 0.0229\n",
      "\n",
      "== Entrenando con NLL ==\n",
      "Epoch [10/50] | Train Loss: 0.1294 | Val Loss: 0.1065\n",
      "Epoch [20/50] | Train Loss: 0.0443 | Val Loss: 0.0859\n",
      "Epoch [30/50] | Train Loss: 0.0014 | Val Loss: 0.1014\n",
      "Epoch [40/50] | Train Loss: 0.0023 | Val Loss: 0.0893\n",
      "Epoch [50/50] | Train Loss: 0.0009 | Val Loss: 0.1270\n"
     ]
    },
    {
     "data": {
      "text/plain": [
       "IrisNet(\n",
       "  (fc1): Linear(in_features=4, out_features=16, bias=True)\n",
       "  (relu): ReLU()\n",
       "  (fc2): Linear(in_features=16, out_features=16, bias=True)\n",
       "  (fc3): Linear(in_features=16, out_features=3, bias=True)\n",
       ")"
      ]
     },
     "execution_count": 4,
     "metadata": {},
     "output_type": "execute_result"
    }
   ],
   "source": [
    "# Task 3 - Funciones de Pérdida\n",
    "import torch\n",
    "import torch.nn as nn\n",
    "import torch.optim as optim\n",
    "import torch.nn.functional as F\n",
    "\n",
    "# Diccionario de funciones de pérdida\n",
    "loss_functions = {\n",
    "    \"cross_entropy\": nn.CrossEntropyLoss(),\n",
    "    \"mse\": nn.MSELoss(),\n",
    "    \"nll\": nn.NLLLoss()\n",
    "}\n",
    "\n",
    "# Entrenamiento parametrizable\n",
    "def train_model(loss_name=\"cross_entropy\", use_l1=False, use_l2=False, epochs=50):\n",
    "    model = IrisNet()\n",
    "    \n",
    "    # Selección de función de pérdida\n",
    "    if loss_name == \"nll\":\n",
    "        criterion = loss_functions[\"nll\"]\n",
    "        model_output = nn.LogSoftmax(dim=1)\n",
    "    else:\n",
    "        criterion = loss_functions[loss_name]\n",
    "        model_output = lambda x: x  # salida directa\n",
    "    \n",
    "    # Optimizador con L2 si se requiere\n",
    "    optimizer = optim.Adam(model.parameters(), lr=0.01,\n",
    "                           weight_decay=1e-4 if use_l2 else 0.0)\n",
    "    \n",
    "    for epoch in range(epochs):\n",
    "        model.train()\n",
    "        for xb, yb in train_loader:\n",
    "            outputs = model_output(model(xb))\n",
    "            \n",
    "            # MSE requiere one-hot encoding\n",
    "            if loss_name == \"mse\":\n",
    "                yb_onehot = F.one_hot(yb, num_classes=3).float()\n",
    "                loss = criterion(outputs, yb_onehot)\n",
    "            else:\n",
    "                loss = criterion(outputs, yb)\n",
    "            \n",
    "            # Penalización L1\n",
    "            if use_l1:\n",
    "                l1_penalty = sum(param.abs().sum() for param in model.parameters())\n",
    "                loss += 1e-4 * l1_penalty\n",
    "\n",
    "            optimizer.zero_grad()\n",
    "            loss.backward()\n",
    "            optimizer.step()\n",
    "        \n",
    "        # Validación\n",
    "        model.eval()\n",
    "        with torch.no_grad():\n",
    "            val_losses = []\n",
    "            for xb, yb in val_loader:\n",
    "                val_out = model_output(model(xb))\n",
    "                if loss_name == \"mse\":\n",
    "                    yb_onehot = F.one_hot(yb, num_classes=3).float()\n",
    "                    val_loss = criterion(val_out, yb_onehot)\n",
    "                else:\n",
    "                    val_loss = criterion(val_out, yb)\n",
    "                val_losses.append(val_loss.item())\n",
    "        \n",
    "        if (epoch+1) % 10 == 0:\n",
    "            print(f\"Epoch [{epoch+1}/{epochs}] \"\n",
    "                  f\"| Train Loss: {loss.item():.4f} \"\n",
    "                  f\"| Val Loss: {sum(val_losses)/len(val_losses):.4f}\")\n",
    "    \n",
    "    return model\n",
    "\n",
    "# Ejemplos de entrenamiento con diferentes funciones de pérdida\n",
    "print(\"== Entrenando con CrossEntropy ==\")\n",
    "train_model(\"cross_entropy\")\n",
    "\n",
    "print(\"\\n== Entrenando con MSE ==\")\n",
    "train_model(\"mse\")\n",
    "\n",
    "print(\"\\n== Entrenando con NLL ==\")\n",
    "train_model(\"nll\")\n"
   ]
  }
 ],
 "metadata": {
  "kernelspec": {
   "display_name": "Python 3",
   "language": "python",
   "name": "python3"
  },
  "language_info": {
   "codemirror_mode": {
    "name": "ipython",
    "version": 3
   },
   "file_extension": ".py",
   "mimetype": "text/x-python",
   "name": "python",
   "nbconvert_exporter": "python",
   "pygments_lexer": "ipython3",
   "version": "3.8.10"
  }
 },
 "nbformat": 4,
 "nbformat_minor": 5
}
