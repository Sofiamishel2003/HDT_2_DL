{
 "cells": [
  {
   "cell_type": "markdown",
   "id": "c44f61de",
   "metadata": {},
   "source": [
    "## CC3092 - Deep Learning y Sistemas Inteligentes  \n",
    "## Hoja de Trabajo 2  \n",
    "### Semestre II - 2025  \n",
    "\n",
    "**Integrantes:**  \n",
    "- Sofía Mishell Velásquez, 22049  \n",
    "- José Rodrigo Marchena, 22398  \n",
    "- José Joaquín Campos, 22115  \n",
    "---\n",
    "\n",
    "# Ejercicio 1 - Experimentación Práctica\n",
    "\n",
    "## Task 1 - Preparación del conjunto de datos\n",
    "En esta sección se carga el conjunto de datos Iris utilizando `sklearn.datasets`. Posteriormente, se dividen los datos en entrenamiento y validación para asegurar que los modelos se prueben adecuadamente en datos no vistos."
   ]
  },
  {
   "cell_type": "code",
   "execution_count": 3,
   "id": "e1c448a3",
   "metadata": {},
   "outputs": [
    {
     "name": "stderr",
     "output_type": "stream",
     "text": [
      "C:\\Users\\50250\\AppData\\Local\\Packages\\PythonSoftwareFoundation.Python.3.8_qbz5n2kfra8p0\\LocalCache\\local-packages\\Python38\\site-packages\\tqdm\\auto.py:21: TqdmWarning: IProgress not found. Please update jupyter and ipywidgets. See https://ipywidgets.readthedocs.io/en/stable/user_install.html\n",
      "  from .autonotebook import tqdm as notebook_tqdm\n"
     ]
    }
   ],
   "source": [
    "# Task 1 - Preparación del conjunto de datos\n",
    "from sklearn.datasets import load_iris\n",
    "from sklearn.model_selection import train_test_split\n",
    "from sklearn.preprocessing import StandardScaler\n",
    "import torch\n",
    "from torch.utils.data import TensorDataset, DataLoader\n",
    "\n",
    "# Cargar dataset Iris\n",
    "iris = load_iris()\n",
    "X, y = iris.data, iris.target\n",
    "\n",
    "# Normalización\n",
    "scaler = StandardScaler()\n",
    "X = scaler.fit_transform(X)\n",
    "\n",
    "# Separación en train/val\n",
    "X_train, X_val, y_train, y_val = train_test_split(X, y, test_size=0.2, random_state=42, stratify=y)\n",
    "\n",
    "# Conversión a tensores\n",
    "X_train_t = torch.tensor(X_train, dtype=torch.float32)\n",
    "y_train_t = torch.tensor(y_train, dtype=torch.long)\n",
    "X_val_t   = torch.tensor(X_val, dtype=torch.float32)\n",
    "y_val_t   = torch.tensor(y_val, dtype=torch.long)\n",
    "\n",
    "# Crear DataLoaders\n",
    "train_loader = DataLoader(TensorDataset(X_train_t, y_train_t), batch_size=16, shuffle=True)\n",
    "val_loader   = DataLoader(TensorDataset(X_val_t, y_val_t), batch_size=16, shuffle=False)"
   ]
  },
  {
   "cell_type": "markdown",
   "id": "bfc02991",
   "metadata": {},
   "source": [
    "## Task 2 - Arquitectura modelo\n",
    "Aquí se construye una red neuronal feedforward simple con nn.Module.\n",
    "La red incluye una capa de entrada, capas ocultas y una capa de salida con número de neuronas igual al número de clases en Iris (3)."
   ]
  },
  {
   "cell_type": "code",
   "execution_count": 4,
   "id": "9e40e759",
   "metadata": {},
   "outputs": [
    {
     "name": "stdout",
     "output_type": "stream",
     "text": [
      "IrisNet(\n",
      "  (fc1): Linear(in_features=4, out_features=16, bias=True)\n",
      "  (relu): ReLU()\n",
      "  (fc2): Linear(in_features=16, out_features=16, bias=True)\n",
      "  (fc3): Linear(in_features=16, out_features=3, bias=True)\n",
      ")\n"
     ]
    }
   ],
   "source": [
    "# Task 2 - Arquitectura del modelo\n",
    "import torch.nn as nn\n",
    "\n",
    "class IrisNet(nn.Module):\n",
    "    def __init__(self, input_dim=4, hidden_dim=16, output_dim=3):\n",
    "        super(IrisNet, self).__init__()\n",
    "        self.fc1 = nn.Linear(input_dim, hidden_dim)\n",
    "        self.relu = nn.ReLU()\n",
    "        self.fc2 = nn.Linear(hidden_dim, hidden_dim)\n",
    "        self.fc3 = nn.Linear(hidden_dim, output_dim)\n",
    "    \n",
    "    def forward(self, x):\n",
    "        x = self.relu(self.fc1(x))\n",
    "        x = self.relu(self.fc2(x))\n",
    "        return self.fc3(x)\n",
    "\n",
    "# Instanciar modelo\n",
    "model = IrisNet()\n",
    "print(model)"
   ]
  },
  {
   "cell_type": "markdown",
   "id": "623c76cf",
   "metadata": {},
   "source": [
    "## Task 3 - Funciones de Pérdida\n",
    "El objetivo es comparar el rendimiento del modelo utilizando distintas funciones de pérdida.\n",
    "Se probarán al menos tres pérdidas comunes:\n",
    "- nn.CrossEntropyLoss (adecuada para clasificación multiclase)\n",
    "- nn.MSELoss (Mean Squared Error)\n",
    "- nn.NLLLoss (Negative Log Likelihood, usando LogSoftmax)"
   ]
  },
  {
   "cell_type": "code",
   "execution_count": 5,
   "id": "ad9728d8",
   "metadata": {},
   "outputs": [],
   "source": [
    "# Task 3 - Funciones de Pérdida\n",
    "loss_functions = {\n",
    "    \"CrossEntropy\": nn.CrossEntropyLoss(),\n",
    "    \"MSE\": nn.MSELoss(),\n",
    "    \"NLL\": nn.NLLLoss()\n",
    "}\n",
    "\n",
    "# Ejemplo de selección de función de pérdida\n",
    "criterion = loss_functions[\"CrossEntropy\"]"
   ]
  }
 ],
 "metadata": {
  "kernelspec": {
   "display_name": "Python 3",
   "language": "python",
   "name": "python3"
  },
  "language_info": {
   "codemirror_mode": {
    "name": "ipython",
    "version": 3
   },
   "file_extension": ".py",
   "mimetype": "text/x-python",
   "name": "python",
   "nbconvert_exporter": "python",
   "pygments_lexer": "ipython3",
   "version": "3.8.10"
  }
 },
 "nbformat": 4,
 "nbformat_minor": 5
}
